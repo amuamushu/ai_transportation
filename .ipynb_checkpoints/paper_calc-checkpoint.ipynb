{
 "cells": [
  {
   "cell_type": "code",
   "execution_count": 1,
   "metadata": {},
   "outputs": [],
   "source": [
    "import pandas as pd\n",
    "import numpy as np\n",
    "import time\n",
    "from datetime import timedelta \n",
    "from datetime import datetime"
   ]
  },
  {
   "cell_type": "code",
   "execution_count": 2,
   "metadata": {},
   "outputs": [],
   "source": [
    "# read csv\n",
    "eb = pd.read_csv('78 EB.csv')\n",
    "wb = pd.read_csv('78 WB .csv')\n",
    "\n",
    "# select ramps only\n",
    "eb = eb[eb.Name.str.contains('to')]\n",
    "wb = wb[wb.Name.str.contains('to')]"
   ]
  },
  {
   "cell_type": "code",
   "execution_count": 3,
   "metadata": {},
   "outputs": [],
   "source": [
    "def convtime(s):\n",
    "    fmt = \"%H:%M:%S\"\n",
    "    return datetime.strptime(s, fmt)\n",
    "\n",
    "# convert datatype of 'time' to datetime \n",
    "wb['wb_convtime'] = wb['Time'].apply(convtime)\n",
    "eb[\"eb_convtime\"] = eb['Time'].apply(convtime)\n",
    "\n",
    "# take into account the sensor delay time\n",
    "wb['delay_time'] = wb['wb_convtime'] + timedelta(minutes=1) "
   ]
  },
  {
   "cell_type": "code",
   "execution_count": 4,
   "metadata": {},
   "outputs": [],
   "source": [
    "def name_transform(x):\n",
    "    if 'WB' in x:\n",
    "        x = x.replace('WB','EB')\n",
    "    return x\n",
    "\n",
    "# add a new column to wb to merge wb and eb\n",
    "wb['transform_name'] = wb['Name'].apply(name_transform)\n",
    "\n",
    "# merge\n",
    "new_df = pd.merge(eb, wb, how='inner', left_on=['Name','eb_convtime'], right_on = ['transform_name','delay_time'])"
   ]
  },
  {
   "cell_type": "code",
   "execution_count": 5,
   "metadata": {},
   "outputs": [],
   "source": [
    "# drop unnecessary columns\n",
    "new_df = new_df[['Name_x','pcw1occ_x', 'pcw1speed_x', 'pcw1vol_x', 'r_1_offcnt_x', 'r_2_offcnt_x',\n",
    "                'pcw1occ_y', 'pcw1speed_y', 'pcw1vol_y', 'Psg 1 Cnt_x', \n",
    "                 'Psg 2 Cnt_x', 'Psg 3 Cnt_x','r_1_offcnt_y', 'r_2_offcnt_y']]"
   ]
  },
  {
   "cell_type": "code",
   "execution_count": 6,
   "metadata": {},
   "outputs": [],
   "source": [
    "# convert Nan values to 0\n",
    "new_df['Psg 1 Cnt_x'] = new_df['Psg 1 Cnt_x'].fillna(0)\n",
    "new_df['Psg 2 Cnt_x'] = new_df['Psg 2 Cnt_x'].fillna(0)\n",
    "new_df['Psg 3 Cnt_x'] = new_df['Psg 3 Cnt_x'].fillna(0)\n",
    "new_df['r_1_offcnt_x'] = new_df['r_1_offcnt_x'].fillna(0)\n",
    "new_df['r_2_offcnt_x'] = new_df['r_2_offcnt_x'].fillna(0)"
   ]
  },
  {
   "cell_type": "code",
   "execution_count": 7,
   "metadata": {},
   "outputs": [],
   "source": [
    "# # change column names\n",
    "# # E: East Bound\n",
    "# # W: West Bound\n",
    "# new_df.rename(columns={\"Name_x\": \"name\",\n",
    "#                        \"pcw1occ_x\": \"pcw1occ_E\",\n",
    "#                        \"pcw1speed_x\": \"pcw1speed_E\",\n",
    "#                        \"pcw1vol_x\": \"pcw1vol_x_E\",\n",
    "#                        \"r_1_offcnt_x\": \"r_1_offcnt_E\",\n",
    "#                        \"r_2_offcnt_x\": \"r_2_offcnt_E\",\n",
    "#                        \"pcw1occ_y\": \"pcw1occ_W\",\n",
    "#                        \"pcw1speed_y\": \"pcw1speed_W\",\n",
    "#                        \"pcw1vol_y\": \"pcw1vol_W\",\n",
    "#                        \"Psg 1 Cnt_x\": \"Psg 1 Cnt_E\",\n",
    "#                        \"Psg 2 Cnt_x\": \"Psg 2 Cnt_E\",\n",
    "#                        \"Psg 3 Cnt_x\": \"Psg 2 Cnt_E\",\n",
    "#                        \"r_1_offcnt_y\": \"r_1_offcnt_W\",\n",
    "#                        \"r_2_offcnt_y\": \"r_2_offcnt_W\"}, inplace = True)"
   ]
  },
  {
   "cell_type": "code",
   "execution_count": 8,
   "metadata": {},
   "outputs": [
    {
     "data": {
      "text/html": [
       "<div>\n",
       "<style scoped>\n",
       "    .dataframe tbody tr th:only-of-type {\n",
       "        vertical-align: middle;\n",
       "    }\n",
       "\n",
       "    .dataframe tbody tr th {\n",
       "        vertical-align: top;\n",
       "    }\n",
       "\n",
       "    .dataframe thead th {\n",
       "        text-align: right;\n",
       "    }\n",
       "</style>\n",
       "<table border=\"1\" class=\"dataframe\">\n",
       "  <thead>\n",
       "    <tr style=\"text-align: right;\">\n",
       "      <th></th>\n",
       "      <th>Name_x</th>\n",
       "      <th>pcw1occ_x</th>\n",
       "      <th>pcw1speed_x</th>\n",
       "      <th>pcw1vol_x</th>\n",
       "      <th>r_1_offcnt_x</th>\n",
       "      <th>r_2_offcnt_x</th>\n",
       "      <th>pcw1occ_y</th>\n",
       "      <th>pcw1speed_y</th>\n",
       "      <th>pcw1vol_y</th>\n",
       "      <th>Psg 1 Cnt_x</th>\n",
       "      <th>Psg 2 Cnt_x</th>\n",
       "      <th>Psg 3 Cnt_x</th>\n",
       "      <th>r_1_offcnt_y</th>\n",
       "      <th>r_2_offcnt_y</th>\n",
       "    </tr>\n",
       "  </thead>\n",
       "  <tbody>\n",
       "    <tr>\n",
       "      <td>0</td>\n",
       "      <td>Jefferson St to 78 EB</td>\n",
       "      <td>1.1</td>\n",
       "      <td>75</td>\n",
       "      <td>182</td>\n",
       "      <td>0.0</td>\n",
       "      <td>1.0</td>\n",
       "      <td>3.6</td>\n",
       "      <td>64</td>\n",
       "      <td>487</td>\n",
       "      <td>0.0</td>\n",
       "      <td>0.0</td>\n",
       "      <td>0.0</td>\n",
       "      <td>0.0</td>\n",
       "      <td>1.0</td>\n",
       "    </tr>\n",
       "  </tbody>\n",
       "</table>\n",
       "</div>"
      ],
      "text/plain": [
       "                  Name_x  pcw1occ_x  pcw1speed_x  pcw1vol_x  r_1_offcnt_x  \\\n",
       "0  Jefferson St to 78 EB        1.1           75        182           0.0   \n",
       "\n",
       "   r_2_offcnt_x  pcw1occ_y  pcw1speed_y  pcw1vol_y  Psg 1 Cnt_x  Psg 2 Cnt_x  \\\n",
       "0           1.0        3.6           64        487          0.0          0.0   \n",
       "\n",
       "   Psg 3 Cnt_x  r_1_offcnt_y  r_2_offcnt_y  \n",
       "0          0.0           0.0           1.0  "
      ]
     },
     "execution_count": 8,
     "metadata": {},
     "output_type": "execute_result"
    }
   ],
   "source": [
    "new_df.head(1)"
   ]
  },
  {
   "cell_type": "markdown",
   "metadata": {},
   "source": [
    "# Calculations"
   ]
  },
  {
   "cell_type": "code",
   "execution_count": 9,
   "metadata": {},
   "outputs": [],
   "source": [
    "N = 2   # number of lanes\n",
    "TAO = 1.75\n",
    "FT_MI = 5280 # mile to feet conversion\n",
    "CONVERSION = 5280/3600"
   ]
  },
  {
   "cell_type": "code",
   "execution_count": 48,
   "metadata": {},
   "outputs": [],
   "source": [
    "# pass parameter x to probe the x-th row of df\n",
    "def get_best_rates(x, rates):\n",
    "    row = new_df.iloc[[x]]  # row we are working with\n",
    "\n",
    "    # calculate values\n",
    "    density_up = row['pcw1speed_x']/row['pcw1vol_x']\n",
    "    q_exit = (row['r_1_offcnt_x']+row['r_2_offcnt_x'])*120\n",
    "\n",
    "    # density down stream for each rate\n",
    "    vmerge_vals = dict()   # merge speed\n",
    "    nds_vals = dict()   # down stream density\n",
    "    diff = dict()\n",
    "    for i in rates:\n",
    "        vols = (((FT_MI*N)*row['pcw1vol_x'])/((TAO*CONVERSION*N*row['pcw1speed_x'])+i))-(14.75/(TAO*CONVERSION))\n",
    "        vmerge_vals[i] = min(float(vols), float(row['pcw1vol_x'][x]))\n",
    "\n",
    "        nds_vals[i] = (1/row['pcw1vol_x']) * (row['pcw1speed_x'] + (i/N))-((1/N* q_exit)/vmerge_vals[i])\n",
    "        \n",
    "        # take the difference to see which one is closest to nds = 1.15(nups) \n",
    "        diff[i] = float(abs(nds_vals[i]-(density_up*1.15)))        \n",
    "\n",
    "    # get the best rate\n",
    "    best_rate = min(diff, key=diff.get)\n",
    "    \n",
    "    return float(best_rate)"
   ]
  },
  {
   "cell_type": "code",
   "execution_count": 49,
   "metadata": {},
   "outputs": [],
   "source": [
    "# mu: mean; best_rate\n",
    "# sigma: standard deviation\n",
    "def generate_range(mu, sigma = 2):\n",
    "    return np.random.normal(mu, sigma, 15)"
   ]
  },
  {
   "cell_type": "code",
   "execution_count": 50,
   "metadata": {},
   "outputs": [],
   "source": [
    "rates = [1008,971,934,896,859,822,785, 748,710,673,636,599,562,524,484]   # initial rates\n",
    "rates = [i*N for i in rates]   # multiply rates by the number of lanes"
   ]
  },
  {
   "cell_type": "code",
   "execution_count": 51,
   "metadata": {},
   "outputs": [],
   "source": [
    "for row in range(new_df.size[0]):\n",
    "    best_rate = get_best_rates(row, rates)\n",
    "    rates = generate_range(best_rate)"
   ]
  },
  {
   "cell_type": "code",
   "execution_count": null,
   "metadata": {},
   "outputs": [],
   "source": []
  },
  {
   "cell_type": "code",
   "execution_count": null,
   "metadata": {},
   "outputs": [],
   "source": []
  },
  {
   "cell_type": "code",
   "execution_count": null,
   "metadata": {},
   "outputs": [],
   "source": [
    "# what is this for?\n",
    "# calculation may be wrong. Missing a few components from the formula\n",
    "\n",
    "# vol_x: upstream\n",
    "# vol_y: downstream\n",
    "\n",
    "# For East Bound (variables with x):\n",
    "\n",
    "density_downstream = []\n",
    "for i in range(len(new_df['pcw1vol_x'])):\n",
    "    if new_df['pcw1vol_x'][i] != 0:\n",
    "        nds = (1/new_df['pcw1vol_x'][i]) * (new_df['pcw1speed_x'][i] + new_df['r_1_offcnt_x'][i])\n",
    "        # assuming r_1_offcnt_x is ramp, what is ramp speed?\n",
    "    density_downstream.append(nds)\n",
    "    \n",
    "#density_downstream"
   ]
  },
  {
   "cell_type": "code",
   "execution_count": null,
   "metadata": {},
   "outputs": [],
   "source": [
    "# # original code from vince\n",
    "# diff_df=pd.DataFrame()\n",
    "# row1 = new_df.iloc[[0]]\n",
    "\n",
    "# row1['dens_ups']= row1['pcw1speed_x']/row1['pcw1vol_x']\n",
    "# row1['q_exit'] = (row1['r_1_offcnt_x']+row1['r_2_offcnt_x'])*120\n",
    "# rates = [1008,971,934,896,859,822,785, 748,710,673,636,599,562,524,484]\n",
    "# rates2 = []\n",
    "# # double the rate for two ramps\n",
    "# for i in rates:\n",
    "#     rates2.append(i*2)\n",
    "# # density down stream for each rate\n",
    "# for i in rates2:\n",
    "#     vols = (((5280*3)*row1['pcw1vol_x'])/((1.75*1.47*3*row1['pcw1speed_x'])+i))-(14.75-(1.75*1.47))\n",
    "#     row1['vmerge_'+str(i)] = vols\n",
    "#     row1['nds_'+str(i)] = (1/row1['pcw1vol_x']) * (row1['pcw1speed_x'] + (i/3))-((.33* row1['q_exit'])/row1['vmerge_'+str(i)])\n",
    "    \n",
    "# # take the minimum of upstream volume and eqn\n",
    "# for i in vmergelst:\n",
    "#     row1[i] = row1[['pcw1vol_x',i]].min(axis=1)\n",
    "# # take the difference to see which one is closest to nds = 1.15(nups) \n",
    "# for i in rates2:\n",
    "#     diff_df['diff_'+str(i)]=row1['nds_'+str(i)]-(row1['dens_ups']*1.15)\n",
    "    \n",
    "# # get the best rate\n",
    "# meanloss = []\n",
    "# for i in diff_df.columns:\n",
    "#     meanloss.append(np.mean(diff_df[i]))\n",
    "# best_rate = diff_df.min(axis=0).idxmin()\n",
    "# best_rate = int(best_rate[5:])\n",
    "# best_rate"
   ]
  },
  {
   "cell_type": "code",
   "execution_count": null,
   "metadata": {},
   "outputs": [],
   "source": [
    "# # original code from Vince\n",
    "\n",
    "# row1 = new_df.iloc[[1]]\n",
    "# row1['dens_ups']= row1['pcw1speed_x']/row1['pcw1vol_x']\n",
    "# row1['q_ramp'] = (row1['Psg 1 Cnt_x']+row1['Psg 2 Cnt_x']+row1['Psg 3 Cnt_x'])*120\n",
    "# row1['q_exit'] = (row1['r_1_offcnt_x']+row1['r_2_offcnt_x'])*120\n",
    "# vmergelst=[]\n",
    "# # density down stream for each rate\n",
    "# for i in new_rates:\n",
    "#     vols = (((5280*3)*row1['pcw1vol_x'])/((1.75*1.47*3*row1['pcw1speed_x'])+i))-(14.75-(1.75*1.47))\n",
    "#     row1['vmerge_'+str(i)] = vols\n",
    "#     row1['nds_'+str(i)] = (1/row1['pcw1vol_x']) * (row1['pcw1speed_x'] + (i/3))-((.33* row1['q_exit'])/row1['vmerge_'+str(i)])\n",
    "#     vmergelst.append('vmerge_'+str(i))\n",
    "# # take the minimum of upstream volume and eqn\n",
    "# for i in vmergelst:\n",
    "#     row1[i] = row1[['pcw1vol_x',i]].min(axis=1)\n",
    "# # take the difference to see which one is closest to nds = 1.15(nups)\n",
    "# for i in new_rates:\n",
    "#     diff2['diff_'+str(i)]=row1['nds_'+str(i)]-(row1['dens_ups']*1.15)\n",
    "# # get the best rate\n",
    "# meanloss = []\n",
    "# for i in diff2.columns:\n",
    "#     meanloss.append(np.mean(diff2[i]))\n",
    "# best_rate = diff2.min(axis=0).idxmin()\n",
    "# best_rate = float(best_rate[5:])\n",
    "# diff2"
   ]
  },
  {
   "cell_type": "code",
   "execution_count": null,
   "metadata": {},
   "outputs": [],
   "source": []
  },
  {
   "cell_type": "code",
   "execution_count": null,
   "metadata": {},
   "outputs": [],
   "source": []
  },
  {
   "cell_type": "code",
   "execution_count": null,
   "metadata": {},
   "outputs": [],
   "source": []
  },
  {
   "cell_type": "code",
   "execution_count": null,
   "metadata": {},
   "outputs": [],
   "source": [
    "# new_df['dens_ups']= new_df['pcw1speed_x']/new_df['pcw1vol_x']"
   ]
  },
  {
   "cell_type": "code",
   "execution_count": null,
   "metadata": {},
   "outputs": [],
   "source": [
    "# new_df.head()"
   ]
  },
  {
   "cell_type": "code",
   "execution_count": null,
   "metadata": {},
   "outputs": [],
   "source": [
    "# new_df['q_ramp'] = (new_df['Psg 1 Cnt_x']+new_df['Psg 2 Cnt_x']+new_df['Psg 3 Cnt_x'])*120\n",
    "# new_df['q_exit'] = (new_df['r_1_offcnt_x']+new_df['r_2_offcnt_x'])*120"
   ]
  },
  {
   "cell_type": "code",
   "execution_count": null,
   "metadata": {},
   "outputs": [],
   "source": [
    "#new_df['q_ramp']<new_df['q_exit']"
   ]
  },
  {
   "cell_type": "code",
   "execution_count": null,
   "metadata": {},
   "outputs": [],
   "source": [
    "# rates = [1008,971,934,896,859,822,785, 748,710,673,636,599,562,524,484]\n",
    "# rates2 = []\n",
    "# for i in rates:\n",
    "#     rates2.append(i*2)"
   ]
  },
  {
   "cell_type": "code",
   "execution_count": null,
   "metadata": {},
   "outputs": [],
   "source": [
    "# for i in rates2:\n",
    "#     vols = (((5280*3)*new_df['pcw1vol_x'])/((1.75*1.47*3*new_df['pcw1speed_x'])+i))-(14.75-(1.75*1.47))\n",
    "#     new_df['vmerge_'+str(i)] = vols\n",
    "   \n",
    "#     #new_df['nds_'+str(i)] = (1/new_df['pcw1vol_x']) * (new_df['pcw1speed_x'] + (i/3))-(.33* new_df['q_exit'])"
   ]
  },
  {
   "cell_type": "code",
   "execution_count": null,
   "metadata": {},
   "outputs": [],
   "source": [
    "# for i in vmergelst:\n",
    "#     new_df[i] = new_df[['pcw1vol_x',i]].min(axis=1)"
   ]
  },
  {
   "cell_type": "code",
   "execution_count": null,
   "metadata": {},
   "outputs": [],
   "source": [
    "# for i in rates2:\n",
    "#     new_df['nds_'+str(i)] = (1/new_df['pcw1vol_x']) * (new_df['pcw1speed_x'] + (i/3))-((.33* new_df['q_exit'])/new_df['vmerge_'+str(i)])"
   ]
  },
  {
   "cell_type": "code",
   "execution_count": null,
   "metadata": {},
   "outputs": [],
   "source": [
    "# new_df.head()"
   ]
  },
  {
   "cell_type": "code",
   "execution_count": null,
   "metadata": {},
   "outputs": [],
   "source": [
    "# for i in rates2:\n",
    "#     diff_df['diff_'+str(i)]=new_df['nds_'+str(i)]-(new_df['dens_ups']*1.15)"
   ]
  },
  {
   "cell_type": "code",
   "execution_count": null,
   "metadata": {},
   "outputs": [],
   "source": [
    "# meanloss = []\n",
    "# for i in diff_df.columns:\n",
    "#     meanloss.append(np.mean(diff_df[i]))"
   ]
  },
  {
   "cell_type": "code",
   "execution_count": null,
   "metadata": {},
   "outputs": [],
   "source": [
    "diff_df.head()"
   ]
  },
  {
   "cell_type": "code",
   "execution_count": null,
   "metadata": {},
   "outputs": [],
   "source": [
    "diffs = pd.DataFrame()\n",
    "diffs['rates'] = rates2\n",
    "diffs['loss'] = meanloss\n",
    "diffs"
   ]
  },
  {
   "cell_type": "markdown",
   "metadata": {},
   "source": [
    "## Normal Distribution Generated Rates"
   ]
  },
  {
   "cell_type": "code",
   "execution_count": null,
   "metadata": {},
   "outputs": [],
   "source": [
    "# mu, sigma = 968, 1 # mean and standard deviation\n",
    "# new_rates = np.random.normal(mu, sigma, 100)\n",
    "# new_rates"
   ]
  },
  {
   "cell_type": "code",
   "execution_count": null,
   "metadata": {},
   "outputs": [],
   "source": [
    "# new_diff=pd.DataFrame()\n",
    "# for i in new_rates:\n",
    "#     new_diff['diff_'+str(i)]=new_df['nds_'+str(i)]-(new_df['dens_ups']*1.15)"
   ]
  },
  {
   "cell_type": "code",
   "execution_count": null,
   "metadata": {},
   "outputs": [],
   "source": [
    "# for i in new_rates:\n",
    "#     new_vols = (((5280*3)*new_df['pcw1vol_x'])/((1.75*1.47*3*new_df['pcw1speed_x'])+i))-(14.75-(1.75*1.47))\n",
    "#     new_df['vmerge_'+str(i)] = new_vols"
   ]
  },
  {
   "cell_type": "code",
   "execution_count": null,
   "metadata": {},
   "outputs": [],
   "source": [
    "# gen = new_df.iloc[:,-100:]"
   ]
  },
  {
   "cell_type": "code",
   "execution_count": null,
   "metadata": {},
   "outputs": [],
   "source": [
    "# gencols = gen.columns"
   ]
  },
  {
   "cell_type": "code",
   "execution_count": null,
   "metadata": {},
   "outputs": [],
   "source": [
    "# gen['pcw1vol_x'] = new_df['pcw1vol_x']\n",
    "# gen['pcw1speed_x'] = new_df['pcw1speed_x']\n",
    "# gen['q_exit'] = new_df['q_exit']\n",
    "# gen['q_exit'] = new_df['dens_ups']"
   ]
  },
  {
   "cell_type": "code",
   "execution_count": null,
   "metadata": {},
   "outputs": [],
   "source": [
    "# gen.describe()"
   ]
  },
  {
   "cell_type": "code",
   "execution_count": null,
   "metadata": {},
   "outputs": [],
   "source": [
    "# for i in gencols:\n",
    "#     gen[i] = gen[['pcw1vol_x',i]].min(axis=1)"
   ]
  },
  {
   "cell_type": "code",
   "execution_count": null,
   "metadata": {},
   "outputs": [],
   "source": [
    "# for i in new_rates:\n",
    "#     gen['nds_'+str(i)] = (1/new_df['pcw1vol_x']) * (new_df['pcw1speed_x'] + (i/3))-((.33* new_df['q_exit'])/new_df['vmerge_'+str(i)])"
   ]
  },
  {
   "cell_type": "code",
   "execution_count": null,
   "metadata": {},
   "outputs": [],
   "source": [
    "# gen.describe()"
   ]
  },
  {
   "cell_type": "code",
   "execution_count": null,
   "metadata": {},
   "outputs": [],
   "source": [
    "# import statistics "
   ]
  },
  {
   "cell_type": "code",
   "execution_count": null,
   "metadata": {},
   "outputs": [],
   "source": [
    "# gen_diff = pd.DataFrame()"
   ]
  },
  {
   "cell_type": "code",
   "execution_count": null,
   "metadata": {},
   "outputs": [],
   "source": [
    "# for i in new_rates:\n",
    "#     gen_diff['diff_'+str(i)]=gen['nds_'+str(i)]-(new_df['dens_ups']*1.15)"
   ]
  },
  {
   "cell_type": "code",
   "execution_count": null,
   "metadata": {},
   "outputs": [],
   "source": [
    "# gen_diff"
   ]
  },
  {
   "cell_type": "code",
   "execution_count": null,
   "metadata": {},
   "outputs": [],
   "source": [
    "# gen_diff.describe()"
   ]
  },
  {
   "cell_type": "code",
   "execution_count": null,
   "metadata": {},
   "outputs": [],
   "source": [
    "# gen_meanloss = []\n",
    "# for i in gen_diff.columns:\n",
    "#     gen_meanloss.append(np.mean(gen_diff[i]))"
   ]
  },
  {
   "cell_type": "code",
   "execution_count": null,
   "metadata": {},
   "outputs": [],
   "source": [
    "# gendiffs = pd.DataFrame()\n",
    "# gendiffs['rates'] = new_rates\n",
    "# gendiffs['loss'] = gen_meanloss\n",
    "# gendiffs"
   ]
  },
  {
   "cell_type": "code",
   "execution_count": null,
   "metadata": {},
   "outputs": [],
   "source": [
    "# gendiffs['loss'].min()"
   ]
  },
  {
   "cell_type": "code",
   "execution_count": null,
   "metadata": {},
   "outputs": [],
   "source": [
    "# filtered_df = new_df[new_df[['Name_x', 'transform_name']].notnull()] #this makes all values NaN?"
   ]
  },
  {
   "cell_type": "code",
   "execution_count": null,
   "metadata": {},
   "outputs": [],
   "source": [
    "# filtered_df"
   ]
  },
  {
   "cell_type": "code",
   "execution_count": null,
   "metadata": {},
   "outputs": [],
   "source": [
    "# q_exit = (filtered_df.r_1_offcnt_x+filtered_df.r_1_offcnt_y)*120\n",
    "# q_exit.unique()"
   ]
  },
  {
   "cell_type": "code",
   "execution_count": null,
   "metadata": {},
   "outputs": [],
   "source": []
  },
  {
   "cell_type": "code",
   "execution_count": null,
   "metadata": {},
   "outputs": [],
   "source": []
  }
 ],
 "metadata": {
  "kernelspec": {
   "display_name": "Python 3",
   "language": "python",
   "name": "python3"
  },
  "language_info": {
   "codemirror_mode": {
    "name": "ipython",
    "version": 3
   },
   "file_extension": ".py",
   "mimetype": "text/x-python",
   "name": "python",
   "nbconvert_exporter": "python",
   "pygments_lexer": "ipython3",
   "version": "3.7.4"
  }
 },
 "nbformat": 4,
 "nbformat_minor": 4
}
