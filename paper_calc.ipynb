{
 "cells": [
  {
   "cell_type": "code",
   "execution_count": 1,
   "metadata": {},
   "outputs": [],
   "source": [
    "import pandas as pd\n",
    "\n",
    "# tweaking settings to see all columns on screen\n",
    "pd.set_option('display.max_columns', None)\n",
    "\n",
    "import numpy as np\n",
    "import time\n",
    "import math\n",
    "from datetime import timedelta \n",
    "from datetime import datetime\n",
    "\n",
    "N = 3 # number of lanes\n",
    "FT_MI = 5280 # mile to feet conversion\n",
    "TAO = 1.75 #\n",
    "SPEED_CONVER = 5280/3600 # ft/s to mph conversion\n",
    "L = 14.75 # typical length of a car\n",
    "l = 5 # loop length\n",
    "DEPARTURE_CONVER = 120 # hourly departure of v vehicles; raw data shows vehicles per 30 seconds\n",
    "\n",
    "q_ramps = [1008,971,934,896,859,822,785,748,710,673,636,599,562,524,484]   # hypothetical q_ramp\n",
    "q_ramps = [i* 2 for i in q_ramps]   # two ramps => double the discharge"
   ]
  },
  {
   "cell_type": "markdown",
   "metadata": {},
   "source": [
    "## Data Cleaning"
   ]
  },
  {
   "cell_type": "code",
   "execution_count": 2,
   "metadata": {},
   "outputs": [],
   "source": [
    "# read csv\n",
    "df = pd.read_csv('78 EB.csv')\n",
    "\n",
    "# select ['Name']s with word 'to'\n",
    "df = df[df.Name.str.contains('to')] # those that dont have 'to' is radar data; no ramp data\n",
    "\n",
    "# drop unnecessary columns\n",
    "df = df[['Name', 'Time', 'Id', 'pcw1speed', 'pcw1vol', 'r_1_offcnt', 'r_2_offcnt', 'MlDetPostmile', 'pcw1occ']]\n",
    "\n",
    "# rename columns\n",
    "df.rename(columns={\"pcw1speed\": \"V_ups\",\n",
    "                   \"pcw1vol\": \"Q_ups\",\n",
    "                   \"MlDetPostmile\": \"postmile\",\n",
    "                   \"pcw1occ\": \"occupancy\"}, inplace = True)\n",
    "\n",
    "                   \n",
    "# per_occ = density * (L+(lengthofloop=10))/(5280+density*l) # percent occupancy\n",
    "\n",
    "# convert Nan values to 0\n",
    "df['r_2_offcnt'] = df['r_2_offcnt'].fillna(0) # some have Nan values because there \n",
    "\n",
    "# change all V_ups value of 0 to the previous data\n",
    "df['V_ups'] = df['V_ups'].replace(to_replace=0, method='ffill')\n",
    "\n",
    "# convert datatype of 'time' to datetime \n",
    "def convtime(s):\n",
    "    return datetime.strptime(s, '%H:%M:%S').time()\n",
    "\n",
    "df['convtime'] = df['Time'].apply(convtime)"
   ]
  },
  {
   "cell_type": "markdown",
   "metadata": {},
   "source": [
    "# Calculation"
   ]
  },
  {
   "cell_type": "markdown",
   "metadata": {},
   "source": [
    "### Using arbitrary values of q_ramps"
   ]
  },
  {
   "cell_type": "code",
   "execution_count": 3,
   "metadata": {},
   "outputs": [],
   "source": [
    "# calculate q_exit\n",
    "df['q_exit'] = (df['r_1_offcnt'] + df['r_2_offcnt']) * DEPARTURE_CONVER\n",
    "df.drop(['r_1_offcnt', 'r_2_offcnt'], axis=1, inplace = True)\n",
    "\n",
    "# change all q_exit value of Nan to the previous data\n",
    "df = df.fillna(method='ffill')\n",
    "\n",
    "# change all Nan values to preceeding value\n",
    "df = df.fillna(method='ffill')"
   ]
  },
  {
   "cell_type": "code",
   "execution_count": 4,
   "metadata": {},
   "outputs": [],
   "source": [
    "# the larger the weight, the more efficient the n_ds\n",
    "def weight(n_ds, Q_ups, V_ups):\n",
    "    n_ups = Q_ups/V_ups\n",
    "    n_goal = 1.15 * n_ups\n",
    "    temp = n_ds-n_goal\n",
    "    R = 10 # arbitrary variable for normal Gaussian distribution \n",
    "    return (1/((2*math.pi*R)**(1/2))) * math.e**((-1)*((n_ds-n_goal)**2)/(2*R))"
   ]
  },
  {
   "cell_type": "code",
   "execution_count": 5,
   "metadata": {},
   "outputs": [
    {
     "name": "stderr",
     "output_type": "stream",
     "text": [
      "/Users/taekunkim/opt/anaconda3/lib/python3.7/site-packages/ipykernel_launcher.py:19: SettingWithCopyWarning: \n",
      "A value is trying to be set on a copy of a slice from a DataFrame.\n",
      "Try using .loc[row_indexer,col_indexer] = value instead\n",
      "\n",
      "See the caveats in the documentation: http://pandas.pydata.org/pandas-docs/stable/user_guide/indexing.html#returning-a-view-versus-a-copy\n",
      "/Users/taekunkim/opt/anaconda3/lib/python3.7/site-packages/ipykernel_launcher.py:20: SettingWithCopyWarning: \n",
      "A value is trying to be set on a copy of a slice from a DataFrame.\n",
      "Try using .loc[row_indexer,col_indexer] = value instead\n",
      "\n",
      "See the caveats in the documentation: http://pandas.pydata.org/pandas-docs/stable/user_guide/indexing.html#returning-a-view-versus-a-copy\n",
      "/Users/taekunkim/opt/anaconda3/lib/python3.7/site-packages/pandas/core/frame.py:4102: SettingWithCopyWarning: \n",
      "A value is trying to be set on a copy of a slice from a DataFrame\n",
      "\n",
      "See the caveats in the documentation: http://pandas.pydata.org/pandas-docs/stable/user_guide/indexing.html#returning-a-view-versus-a-copy\n",
      "  errors=errors,\n"
     ]
    }
   ],
   "source": [
    "Q_ups = df['Q_ups']\n",
    "V_ups = df['V_ups']\n",
    "q_exit = df['q_exit']\n",
    "\n",
    "# calculate n_merge and V_merge\n",
    "for q_ramp in q_ramps:\n",
    "    n_merge = q_ramp/V_ups\n",
    "    df['n_merge_' + str(q_ramp)] = n_merge\n",
    "    df['V_merge_' + str(q_ramp)] = (FT_MI-n_merge*L) / (n_merge*TAO*SPEED_CONVER)\n",
    "    \n",
    "# split df by \"Id\" to shift values; we use some values that are recorded by sensors a minute ago and some current \n",
    "new_df = pd.DataFrame(columns = df.columns)\n",
    "unique_ids = df['Id'].unique().tolist()    \n",
    "\n",
    "for unique_id in unique_ids:\n",
    "    temp_df = df.loc[df['Id'] == unique_id]\n",
    "    \n",
    "    # shift down values for calculation    \n",
    "    temp_df['V_ups'] = temp_df['V_ups'].shift(1)\n",
    "    temp_df['Q_ups'] = temp_df['Q_ups'].shift(1)\n",
    "    temp_df.drop(temp_df.head(1).index,inplace=True)\n",
    "    \n",
    "    new_df = pd.concat([new_df, temp_df], axis=0, sort=True)\n",
    "    \n",
    "V_merge = new_df['V_merge_' + str(q_ramp)]\n",
    "V_ups = new_df['V_ups']\n",
    "Q_ups = new_df['Q_ups']\n",
    "q_exit = new_df['q_exit']\n",
    "    \n",
    "# calculate n_ds\n",
    "for q_ramp in q_ramps:\n",
    "    new_df['n_ds_' + str(q_ramp)] = (1/V_ups) * (Q_ups + (q_ramp/N)) - ((1/N) * (q_exit/V_merge))\n",
    "\n",
    "for q_ramp in q_ramps:\n",
    "    R = 10 # arbitrary variable for normal Gaussian distribution \n",
    "    n_ds = new_df['n_ds_' + str(q_ramp)]\n",
    "    new_df['weight_' + str(q_ramp)] = weight(n_ds, Q_ups, V_ups)"
   ]
  },
  {
   "cell_type": "code",
   "execution_count": 6,
   "metadata": {},
   "outputs": [],
   "source": [
    "cols=[]\n",
    "\n",
    "for q_ramp in q_ramps:\n",
    "    cols.append('weight_' + str(q_ramp))\n",
    "\n",
    "# choose the largest value across multiple columns\n",
    "new_df = new_df.assign(q_ramp=new_df[cols].idxmax(axis=1))\n",
    "new_df['q_ramp'] = new_df['q_ramp'].apply(lambda x: str(x).split('_')[1])\n",
    "new_df = new_df[['Id', 'Name', 'Q_ups', 'Time', 'V_ups', 'convtime', 'occupancy', 'postmile', 'q_exit', 'q_ramp']]"
   ]
  },
  {
   "cell_type": "markdown",
   "metadata": {},
   "source": [
    "### Using Gaussian Distribution"
   ]
  },
  {
   "cell_type": "code",
   "execution_count": 7,
   "metadata": {},
   "outputs": [],
   "source": [
    "# mu: mean; best_rate\n",
    "# sigma: standard deviation\n",
    "def generate_range(mu, sigma=2):\n",
    "    return np.random.normal(mu, sigma, 15).tolist()"
   ]
  },
  {
   "cell_type": "code",
   "execution_count": 8,
   "metadata": {},
   "outputs": [
    {
     "name": "stderr",
     "output_type": "stream",
     "text": [
      "/Users/taekunkim/opt/anaconda3/lib/python3.7/site-packages/ipykernel_launcher.py:12: SettingWithCopyWarning: \n",
      "A value is trying to be set on a copy of a slice from a DataFrame.\n",
      "Try using .loc[row_indexer,col_indexer] = value instead\n",
      "\n",
      "See the caveats in the documentation: http://pandas.pydata.org/pandas-docs/stable/user_guide/indexing.html#returning-a-view-versus-a-copy\n",
      "  if sys.path[0] == '':\n",
      "/Users/taekunkim/opt/anaconda3/lib/python3.7/site-packages/ipykernel_launcher.py:16: SettingWithCopyWarning: \n",
      "A value is trying to be set on a copy of a slice from a DataFrame.\n",
      "Try using .loc[row_indexer,col_indexer] = value instead\n",
      "\n",
      "See the caveats in the documentation: http://pandas.pydata.org/pandas-docs/stable/user_guide/indexing.html#returning-a-view-versus-a-copy\n",
      "  app.launch_new_instance()\n",
      "/Users/taekunkim/opt/anaconda3/lib/python3.7/site-packages/ipykernel_launcher.py:24: SettingWithCopyWarning: \n",
      "A value is trying to be set on a copy of a slice from a DataFrame.\n",
      "Try using .loc[row_indexer,col_indexer] = value instead\n",
      "\n",
      "See the caveats in the documentation: http://pandas.pydata.org/pandas-docs/stable/user_guide/indexing.html#returning-a-view-versus-a-copy\n",
      "/Users/taekunkim/opt/anaconda3/lib/python3.7/site-packages/ipykernel_launcher.py:28: SettingWithCopyWarning: \n",
      "A value is trying to be set on a copy of a slice from a DataFrame.\n",
      "Try using .loc[row_indexer,col_indexer] = value instead\n",
      "\n",
      "See the caveats in the documentation: http://pandas.pydata.org/pandas-docs/stable/user_guide/indexing.html#returning-a-view-versus-a-copy\n"
     ]
    }
   ],
   "source": [
    "matrix = pd.DataFrame(columns = new_df.columns)\n",
    "best_q_ramps = new_df['q_ramp'].unique().tolist()\n",
    "\n",
    "for best_q_ramp in best_q_ramps:\n",
    "    temp_df = new_df.loc[new_df['q_ramp'] == best_q_ramp]\n",
    "    q_ramps = generate_range(float(best_q_ramp))\n",
    "    V_ups = temp_df['V_ups']\n",
    "    Q_ups = temp_df['Q_ups']\n",
    "    q_exit = temp_df['q_exit']\n",
    "    \n",
    "    for q_ramp in q_ramps:\n",
    "        temp_df['n_merge_' + str(q_ramp)] = q_ramp/V_ups\n",
    "\n",
    "    for q_ramp in q_ramps:\n",
    "        n_merge = temp_df['n_merge_' + str(q_ramp)]\n",
    "        temp_df['V_merge_' + str(q_ramp)] = (FT_MI-n_merge*L) / (n_merge*TAO*SPEED_CONVER)\n",
    "\n",
    "    V_merge = temp_df['V_merge_' + str(q_ramp)]\n",
    "    V_ups = temp_df['V_ups']\n",
    "    Q_ups = temp_df['Q_ups']\n",
    "    q_exit = temp_df['q_exit']\n",
    "    \n",
    "    for q_ramp in q_ramps:\n",
    "        temp_df['n_ds_' + str(q_ramp)] = (1/V_ups) * (Q_ups + (q_ramp/N)) - ((1/N) * (q_exit/V_merge))\n",
    "        \n",
    "    for q_ramp in q_ramps:\n",
    "        n_ds = temp_df['n_ds_' + str(q_ramp)]\n",
    "        temp_df['weight_' + str(q_ramp)] = weight(n_ds, Q_ups, V_ups)\n",
    "        \n",
    "    cols=[]\n",
    "\n",
    "    for q_ramp in q_ramps:\n",
    "        cols.append('weight_' + str(q_ramp))\n",
    "\n",
    "    # choose the largest value across multiple columns\n",
    "    temp_df = temp_df.assign(q_ramp=temp_df[cols].idxmax(axis=1))\n",
    "    temp_df['q_ramp'] = temp_df['q_ramp'].apply(lambda x: float(str(x).split('_')[1]))\n",
    "    temp_df = temp_df[['Id', 'Name', 'Q_ups', 'Time', 'V_ups', 'convtime', 'occupancy', 'postmile', 'q_exit', 'q_ramp']]\n",
    "    \n",
    "    matrix = pd.concat([matrix, temp_df], axis=0, sort=True)"
   ]
  },
  {
   "cell_type": "code",
   "execution_count": 14,
   "metadata": {},
   "outputs": [],
   "source": [
    "V_ups = matrix['V_ups']\n",
    "Q_ups = matrix['Q_ups']\n",
    "q_exit = matrix['q_exit']\n",
    "q_ramp = matrix['q_ramp']\n",
    "\n",
    "matrix['n_merge'] = q_ramp/V_ups\n",
    "n_merge = matrix['n_merge']\n",
    "\n",
    "matrix['V_merge'] = (FT_MI-n_merge*L) / (n_merge*TAO*SPEED_CONVER)\n",
    "\n",
    "V_merge = matrix['V_merge']\n",
    "\n",
    "matrix['n_ds'] = (1/V_ups) * (Q_ups + (q_ramp/N)) - ((1/N) * (q_exit/V_merge))"
   ]
  },
  {
   "cell_type": "code",
   "execution_count": 15,
   "metadata": {},
   "outputs": [
    {
     "data": {
      "image/png": "[encoded data removed]",
      "text/plain": [
       "<Figure size 432x288 with 1 Axes>"
      ]
     },
     "metadata": {},
     "output_type": "display_data"
    }
   ],
   "source": [
    "# libraries\n",
    "import matplotlib.pyplot as plt\n",
    "\n",
    "# Dataframe\n",
    "\n",
    "toPlot = matrix.loc[matrix['Id'] == 201]\n",
    "toPlot = toPlot[['V_ups', 'Time']]\n",
    "toPlot['Time'] = pd.to_datetime(toPlot.Time)\n",
    "toPlot = toPlot.groupby(pd.Grouper(key='Time', freq='30min')).mean().dropna()\n",
    "  \n",
    "# Change the style of plot\n",
    "plt.style.use('seaborn-darkgrid')\n",
    " \n",
    "# Create a color palette\n",
    "palette = plt.get_cmap('Set1')\n",
    " \n",
    "# Plot multiple lines\n",
    "num=0\n",
    "for column in toPlot.columns:\n",
    "    num+=1\n",
    "    plt.plot(toPlot.index.hour, toPlot[column], marker='', color=palette(num), linewidth=1, alpha=0.9, label=column)\n",
    "\n",
    "# Add legend\n",
    "plt.legend(loc=2, ncol=2)\n",
    " \n",
    "# Add titles\n",
    "plt.title(\"Speed VS Time\", loc='left', fontsize=12, fontweight=0, color='orange')\n",
    "plt.xlabel(\"Hour\")\n",
    "plt.xticks(rotation = 45)\n",
    "plt.ylabel(\"Speed (mph)\")\n",
    "plt.ylim(0, 80)\n",
    "\n",
    "# Show the graph\n",
    "plt.show()"
   ]
  },
  {
   "cell_type": "code",
   "execution_count": 16,
   "metadata": {},
   "outputs": [
    {
     "data": {
      "text/html": [
       "<div>\n",
       "<style scoped>\n",
       "    .dataframe tbody tr th:only-of-type {\n",
       "        vertical-align: middle;\n",
       "    }\n",
       "\n",
       "    .dataframe tbody tr th {\n",
       "        vertical-align: top;\n",
       "    }\n",
       "\n",
       "    .dataframe thead th {\n",
       "        text-align: right;\n",
       "    }\n",
       "</style>\n",
       "<table border=\"1\" class=\"dataframe\">\n",
       "  <thead>\n",
       "    <tr style=\"text-align: right;\">\n",
       "      <th></th>\n",
       "      <th>Id</th>\n",
       "      <th>Name</th>\n",
       "      <th>Q_ups</th>\n",
       "      <th>Time</th>\n",
       "      <th>V_ups</th>\n",
       "      <th>convtime</th>\n",
       "      <th>occupancy</th>\n",
       "      <th>postmile</th>\n",
       "      <th>q_exit</th>\n",
       "      <th>q_ramp</th>\n",
       "      <th>n_merge</th>\n",
       "      <th>V_merge</th>\n",
       "      <th>n_ds</th>\n",
       "    </tr>\n",
       "  </thead>\n",
       "  <tbody>\n",
       "    <tr>\n",
       "      <td>21</td>\n",
       "      <td>201</td>\n",
       "      <td>Jefferson St to 78 EB</td>\n",
       "      <td>213.0</td>\n",
       "      <td>05:31:00</td>\n",
       "      <td>73.0</td>\n",
       "      <td>05:31:00</td>\n",
       "      <td>1.1</td>\n",
       "      <td>0.858</td>\n",
       "      <td>120.0</td>\n",
       "      <td>965.370242</td>\n",
       "      <td>13.22425</td>\n",
       "      <td>149.811624</td>\n",
       "      <td>7.05889</td>\n",
       "    </tr>\n",
       "  </tbody>\n",
       "</table>\n",
       "</div>"
      ],
      "text/plain": [
       "     Id                   Name  Q_ups      Time  V_ups  convtime  occupancy  \\\n",
       "21  201  Jefferson St to 78 EB  213.0  05:31:00   73.0  05:31:00        1.1   \n",
       "\n",
       "    postmile  q_exit      q_ramp   n_merge     V_merge     n_ds  \n",
       "21     0.858   120.0  965.370242  13.22425  149.811624  7.05889  "
      ]
     },
     "execution_count": 16,
     "metadata": {},
     "output_type": "execute_result"
    }
   ],
   "source": [
    "matrix.head(1)"
   ]
  },
  {
   "cell_type": "code",
   "execution_count": null,
   "metadata": {},
   "outputs": [],
   "source": []
  },
  {
   "cell_type": "code",
   "execution_count": null,
   "metadata": {},
   "outputs": [],
   "source": [
    "# time = \"08:30:00\"\n",
    "\n",
    "# toPlot = matrix.loc[matrix['Time'] == time]\n",
    "# toPlot = toPlot.drop(columns = ['Id', 'Time', 'convtime'])\n",
    "\n",
    "# toPlot = toPlot.sort_values(by=['postmile'], ascending=False)\n",
    "# toPlot['distance'] = toPlot[['postmile']].diff(periods=-1)\n",
    "# df[-1, 'distance'] = 0.0\n",
    "\n",
    "# toPlot['travel_time'] = toPlot['V_ups'] * toPlot['distance']\n",
    "\n",
    "# # toPlot['volume'] = toPlot['V_ups'] * density\n",
    "# toPlot"
   ]
  }
 ],
 "metadata": {
  "kernelspec": {
   "display_name": "Python 3",
   "language": "python",
   "name": "python3"
  },
  "language_info": {
   "codemirror_mode": {
    "name": "ipython",
    "version": 3
   },
   "file_extension": ".py",
   "mimetype": "text/x-python",
   "name": "python",
   "nbconvert_exporter": "python",
   "pygments_lexer": "ipython3",
   "version": "3.7.4"
  }
 },
 "nbformat": 4,
 "nbformat_minor": 4
}
