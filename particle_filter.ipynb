{
 "cells": [
  {
   "cell_type": "code",
   "execution_count": 20,
   "metadata": {},
   "outputs": [],
   "source": [
    "import numpy as np\n",
    "import math\n",
    "import seaborn as sns\n",
    "from matplotlib import pyplot as plt"
   ]
  },
  {
   "cell_type": "markdown",
   "metadata": {},
   "source": [
    "## Initialization"
   ]
  },
  {
   "cell_type": "code",
   "execution_count": 21,
   "metadata": {},
   "outputs": [],
   "source": [
    "x=39 #initial density rate\n",
    "xN = 1 #noise covarinace in system\n",
    "xR = 1 #noise covarinace in measurement\n",
    "T = 240 #num iterations\n",
    "N = 125 #number of particles to generate"
   ]
  },
  {
   "cell_type": "code",
   "execution_count": 22,
   "metadata": {},
   "outputs": [],
   "source": [
    "V=2 # variance of initial estimate\n",
    "xP =[] # vector of particles"
   ]
  },
  {
   "cell_type": "markdown",
   "metadata": {},
   "source": [
    "## Generating particles using normal distribution"
   ]
  },
  {
   "cell_type": "code",
   "execution_count": 23,
   "metadata": {},
   "outputs": [],
   "source": [
    "mu, sigma = 0, 0.1 # mean and standard deviation\n",
    "s = np.random.normal(mu, sigma, N)"
   ]
  },
  {
   "cell_type": "code",
   "execution_count": 24,
   "metadata": {},
   "outputs": [],
   "source": [
    "for i in np.arange(0,N+1):\n",
    "    xP.append(x+math.sqrt(V)*s)"
   ]
  },
  {
   "cell_type": "code",
   "execution_count": 25,
   "metadata": {},
   "outputs": [],
   "source": [
    "# sns.lineplot(data=xP, dashes=False)\n",
    "# plt.xlabel(\"Flight Position\")\n",
    "# plt.ylabel(\"Time Step\");"
   ]
  },
  {
   "cell_type": "code",
   "execution_count": 26,
   "metadata": {},
   "outputs": [
    {
     "data": {
      "text/plain": [
       "<matplotlib.axes._subplots.AxesSubplot at 0x1a2677dc90>"
      ]
     },
     "execution_count": 26,
     "metadata": {},
     "output_type": "execute_result"
    },
    {
     "data": {
      "image/png": "[encoded data removed]",
      "text/plain": [
       "<Figure size 432x288 with 1 Axes>"
      ]
     },
     "metadata": {
      "needs_background": "light"
     },
     "output_type": "display_data"
    }
   ],
   "source": [
    "sns.distplot(np.array(xP))"
   ]
  },
  {
   "cell_type": "markdown",
   "metadata": {},
   "source": [
    "## Observations from randomly selected particles"
   ]
  },
  {
   "cell_type": "code",
   "execution_count": 27,
   "metadata": {},
   "outputs": [],
   "source": [
    "z_out = x+math.sqrt(xR) * s"
   ]
  },
  {
   "cell_type": "code",
   "execution_count": 28,
   "metadata": {},
   "outputs": [],
   "source": [
    "x_out, x_est = [x],[x]"
   ]
  },
  {
   "cell_type": "code",
   "execution_count": 29,
   "metadata": {},
   "outputs": [],
   "source": [
    "z_est_out = [x_est]"
   ]
  },
  {
   "cell_type": "markdown",
   "metadata": {},
   "source": [
    "## PF"
   ]
  },
  {
   "cell_type": "code",
   "execution_count": 30,
   "metadata": {},
   "outputs": [],
   "source": [
    "xP_update=[]\n",
    "z_update =[]\n",
    "pw=[]"
   ]
  },
  {
   "cell_type": "code",
   "execution_count": 32,
   "metadata": {},
   "outputs": [],
   "source": [
    "#update the new position and observed position\n",
    "for t in np.arange(0, T+1):\n",
    "    x = x+25*x/(1+x**2)+8*math.cos(1.2*(t-1))+math.sqrt(xN)*s\n",
    "    z = x+math.sqrt(xR)*s"
   ]
  },
  {
   "cell_type": "code",
   "execution_count": 58,
   "metadata": {},
   "outputs": [
    {
     "name": "stdout",
     "output_type": "stream",
     "text": [
      "[127.80465764 124.12785694 108.98250935  80.40956676 125.61686645\n",
      " 142.7718734   91.2048725   88.96432519 136.36560601 104.42196431\n",
      " 106.87639901 121.50496189 103.28349479  98.19700196 111.37492845\n",
      " 113.63900617 130.9544384  151.78363767 104.08280215 118.07367941\n",
      "  90.84544533 132.02970843 118.41106179 120.2289081  137.08524533\n",
      " 125.45179104 119.07155881  83.66069345 107.21170345 108.79365784\n",
      " 124.42111795 120.17972135 140.95990332 119.72552693 127.2392226\n",
      " 118.83227563 114.9914836  112.70232927 109.69338862 112.42826239\n",
      " 117.24004277 133.79535749 128.42165656 147.05047012 133.59269059\n",
      " 154.03722856 111.23823911 112.15256246  94.79042018  92.66178396\n",
      " 100.32985521 117.02461374 113.76219316 117.00084725  94.40856349\n",
      " 131.84665065 112.14801377 117.51859842 122.60564075 108.13456836\n",
      " 128.64937187 142.90111603  99.17168124 103.70234797 143.89712258\n",
      "  87.70218167  98.54257232 140.57619869 114.471368   112.65766338\n",
      " 101.43263931 129.51074627 136.1875169  122.68901384 133.7273842\n",
      " 114.08577395  97.35880607 132.93864587 120.40324847 121.70168374\n",
      " 120.21793428 111.64857429  93.46342389  98.76780075 120.28252663\n",
      " 120.26762597 116.80133967 112.64984349 134.81161757 113.91171443\n",
      " 124.34750018 111.38937525 124.42627919 126.0380898  115.15856422\n",
      " 126.4224612  125.89820139  95.69854298 106.9090119  118.02152862\n",
      "  84.33089398 119.83063393 113.68891536 128.92710077 110.80004782\n",
      " 120.67967309  97.76425708 108.17692745 114.70194726 139.04281244\n",
      " 119.20264255 104.48257823  97.89944404 136.01320664 121.45353988\n",
      " 106.35329098 119.57561922 169.01665622 101.09032769 157.23887517\n",
      "  97.23723214 129.6102682  101.49113764 124.8102541  124.16865639]\n"
     ]
    }
   ],
   "source": [
    "print(x)"
   ]
  },
  {
   "cell_type": "code",
   "execution_count": 59,
   "metadata": {},
   "outputs": [
    {
     "name": "stdout",
     "output_type": "stream",
     "text": [
      "[127.88173865 124.18527827 108.95665314  80.21157024 125.68227269\n",
      " 142.92719785  91.07495513  88.82064341 136.48776486 104.37017\n",
      " 106.83862079 121.54823741 103.22515239  98.10901302 111.36250379\n",
      " 113.63918929 131.04821303 151.98490579 104.02906027 118.09828614\n",
      "  90.71333142 132.12915223 118.43751268 120.26526312 137.2111526\n",
      " 125.51631364 119.10161453  83.48369424 107.17582962 108.76673642\n",
      " 124.48011447 120.2158091  141.10589242 119.75914479 127.31329266\n",
      " 118.86102624 114.99915243 112.69730822 109.6715355  112.4217155\n",
      " 117.26008455 133.90407881 128.50201807 147.22770493 133.70034896\n",
      " 154.24986863 111.22505013 112.14447919  94.68218708  92.54072661\n",
      " 100.2543781  117.04347391 113.76305948 117.01957702  94.29804007\n",
      " 131.94513035 112.13990514 117.54016687 122.6548652  108.10392354\n",
      " 128.73094281 143.05710503  99.08942497 103.64641822 144.05822717\n",
      "  87.55066828  98.45661881 140.72020645 114.47616204 112.65239376\n",
      " 101.36358505 129.5968858  136.30874721 122.73868814 133.83574907\n",
      " 114.08843355  97.26586652 133.04287047 120.44055053 121.74602388\n",
      " 120.25422967 111.63767868  93.3472126   98.68317212 120.31917297\n",
      " 120.30419135 116.81897437 112.64453034 134.92566143 113.91340964\n",
      " 124.4061014  111.37703136 124.48530341 126.10574907 115.1671555\n",
      " 126.49217417 125.9651127   95.59573919 106.87141901 118.04585012\n",
      "  84.15816629 119.86482366 113.68937532 129.01014583 110.78440612\n",
      " 120.71847572  97.67371465 108.1465222  114.70801636 139.17888632\n",
      " 119.23341284 104.4311317   97.80969985 136.13352775 121.49653702\n",
      " 106.31253682 119.60842115 169.3038483  101.01928303 157.46759672\n",
      "  97.14357292 129.69693493 101.42242323 124.87133883 124.22629694]\n"
     ]
    }
   ],
   "source": [
    "print(z)"
   ]
  },
  {
   "cell_type": "code",
   "execution_count": 56,
   "metadata": {},
   "outputs": [
    {
     "ename": "TypeError",
     "evalue": "only size-1 arrays can be converted to Python scalars",
     "output_type": "error",
     "traceback": [
      "\u001b[0;31m---------------------------------------------------------------------------\u001b[0m",
      "\u001b[0;31mTypeError\u001b[0m                                 Traceback (most recent call last)",
      "\u001b[0;32m<ipython-input-56-c0340aefad67>\u001b[0m in \u001b[0;36m<module>\u001b[0;34m\u001b[0m\n\u001b[1;32m      2\u001b[0m     \u001b[0mxP_update\u001b[0m \u001b[0;34m=\u001b[0m \u001b[0mxP\u001b[0m\u001b[0;34m[\u001b[0m\u001b[0mi\u001b[0m\u001b[0;34m]\u001b[0m\u001b[0;34m+\u001b[0m\u001b[0;34m(\u001b[0m\u001b[0;36m25\u001b[0m\u001b[0;34m*\u001b[0m\u001b[0mxP\u001b[0m\u001b[0;34m[\u001b[0m\u001b[0mi\u001b[0m\u001b[0;34m]\u001b[0m\u001b[0;34m/\u001b[0m\u001b[0;34m(\u001b[0m\u001b[0;36m1\u001b[0m\u001b[0;34m+\u001b[0m\u001b[0mxP\u001b[0m\u001b[0;34m[\u001b[0m\u001b[0mi\u001b[0m\u001b[0;34m]\u001b[0m\u001b[0;34m**\u001b[0m\u001b[0;36m2\u001b[0m\u001b[0;34m)\u001b[0m\u001b[0;34m)\u001b[0m \u001b[0;34m+\u001b[0m \u001b[0;34m(\u001b[0m\u001b[0;36m8\u001b[0m\u001b[0;34m*\u001b[0m\u001b[0mmath\u001b[0m\u001b[0;34m.\u001b[0m\u001b[0mcos\u001b[0m\u001b[0;34m(\u001b[0m\u001b[0;36m1.2\u001b[0m\u001b[0;34m*\u001b[0m\u001b[0;34m(\u001b[0m\u001b[0mt\u001b[0m\u001b[0;34m-\u001b[0m\u001b[0;36m1\u001b[0m\u001b[0;34m)\u001b[0m\u001b[0;34m)\u001b[0m\u001b[0;34m)\u001b[0m \u001b[0;34m+\u001b[0m \u001b[0;34m(\u001b[0m\u001b[0mmath\u001b[0m\u001b[0;34m.\u001b[0m\u001b[0msqrt\u001b[0m\u001b[0;34m(\u001b[0m\u001b[0mxN\u001b[0m\u001b[0;34m)\u001b[0m\u001b[0;34m*\u001b[0m\u001b[0ms\u001b[0m\u001b[0;34m)\u001b[0m\u001b[0;34m\u001b[0m\u001b[0;34m\u001b[0m\u001b[0m\n\u001b[1;32m      3\u001b[0m     \u001b[0mz_update\u001b[0m \u001b[0;34m=\u001b[0m \u001b[0mxP_update\u001b[0m\u001b[0;34m[\u001b[0m\u001b[0mi\u001b[0m\u001b[0;34m]\u001b[0m\u001b[0;34m+\u001b[0m\u001b[0mmath\u001b[0m\u001b[0;34m.\u001b[0m\u001b[0msqrt\u001b[0m\u001b[0;34m(\u001b[0m\u001b[0mxR\u001b[0m\u001b[0;34m)\u001b[0m\u001b[0;34m*\u001b[0m\u001b[0ms\u001b[0m\u001b[0;34m\u001b[0m\u001b[0;34m\u001b[0m\u001b[0m\n\u001b[0;32m----> 4\u001b[0;31m     \u001b[0mpw\u001b[0m \u001b[0;34m=\u001b[0m \u001b[0;34m(\u001b[0m\u001b[0;36m1\u001b[0m\u001b[0;34m/\u001b[0m\u001b[0mmath\u001b[0m\u001b[0;34m.\u001b[0m\u001b[0msqrt\u001b[0m\u001b[0;34m(\u001b[0m\u001b[0;36m2\u001b[0m\u001b[0;34m*\u001b[0m\u001b[0mmath\u001b[0m\u001b[0;34m.\u001b[0m\u001b[0mpi\u001b[0m\u001b[0;34m*\u001b[0m\u001b[0mxR\u001b[0m\u001b[0;34m)\u001b[0m\u001b[0;34m)\u001b[0m\u001b[0;34m*\u001b[0m\u001b[0mmath\u001b[0m\u001b[0;34m.\u001b[0m\u001b[0mexp\u001b[0m\u001b[0;34m(\u001b[0m\u001b[0;34m-\u001b[0m\u001b[0;34m(\u001b[0m\u001b[0mz\u001b[0m\u001b[0;34m-\u001b[0m\u001b[0mlist\u001b[0m\u001b[0;34m(\u001b[0m\u001b[0mz_update\u001b[0m\u001b[0;34m)\u001b[0m\u001b[0;34m[\u001b[0m\u001b[0mi\u001b[0m\u001b[0;34m]\u001b[0m\u001b[0;34m)\u001b[0m\u001b[0;34m**\u001b[0m\u001b[0;36m2\u001b[0m\u001b[0;34m/\u001b[0m\u001b[0;34m(\u001b[0m\u001b[0;36m2\u001b[0m\u001b[0;34m*\u001b[0m\u001b[0mxR\u001b[0m\u001b[0;34m)\u001b[0m\u001b[0;34m)\u001b[0m\u001b[0;34m\u001b[0m\u001b[0;34m\u001b[0m\u001b[0m\n\u001b[0m",
      "\u001b[0;31mTypeError\u001b[0m: only size-1 arrays can be converted to Python scalars"
     ]
    }
   ],
   "source": [
    "# apply pf\n",
    "for i in np.arange(0, N+1):\n",
    "    xP_update = xP[i]+(25*xP[i]/(1+xP[i]**2)) + (8*math.cos(1.2*(t-1))) + (math.sqrt(xN)*s)\n",
    "    z_update = xP_update[i]+math.sqrt(xR)*s\n",
    "    pw = (1/math.sqrt(2*math.pi*xR))*math.exp(-(z-list(z_update)[i])**2/(2*xR))"
   ]
  },
  {
   "cell_type": "code",
   "execution_count": null,
   "metadata": {},
   "outputs": [],
   "source": [
    "np.arange(0,N+1)"
   ]
  },
  {
   "cell_type": "code",
   "execution_count": 43,
   "metadata": {},
   "outputs": [
    {
     "data": {
      "text/plain": [
       "125"
      ]
     },
     "execution_count": 43,
     "metadata": {},
     "output_type": "execute_result"
    }
   ],
   "source": [
    "len(xP_update)"
   ]
  },
  {
   "cell_type": "code",
   "execution_count": 44,
   "metadata": {},
   "outputs": [
    {
     "data": {
      "text/plain": [
       "125"
      ]
     },
     "execution_count": 44,
     "metadata": {},
     "output_type": "execute_result"
    }
   ],
   "source": [
    "len(z_update)"
   ]
  },
  {
   "cell_type": "code",
   "execution_count": 45,
   "metadata": {},
   "outputs": [
    {
     "data": {
      "text/plain": [
       "array([  0,   1,   2,   3,   4,   5,   6,   7,   8,   9,  10,  11,  12,\n",
       "        13,  14,  15,  16,  17,  18,  19,  20,  21,  22,  23,  24,  25,\n",
       "        26,  27,  28,  29,  30,  31,  32,  33,  34,  35,  36,  37,  38,\n",
       "        39,  40,  41,  42,  43,  44,  45,  46,  47,  48,  49,  50,  51,\n",
       "        52,  53,  54,  55,  56,  57,  58,  59,  60,  61,  62,  63,  64,\n",
       "        65,  66,  67,  68,  69,  70,  71,  72,  73,  74,  75,  76,  77,\n",
       "        78,  79,  80,  81,  82,  83,  84,  85,  86,  87,  88,  89,  90,\n",
       "        91,  92,  93,  94,  95,  96,  97,  98,  99, 100, 101, 102, 103,\n",
       "       104, 105, 106, 107, 108, 109, 110, 111, 112, 113, 114, 115, 116,\n",
       "       117, 118, 119, 120, 121, 122, 123, 124, 125])"
      ]
     },
     "execution_count": 45,
     "metadata": {},
     "output_type": "execute_result"
    }
   ],
   "source": [
    "np.arange(0, N+1)"
   ]
  },
  {
   "cell_type": "code",
   "execution_count": null,
   "metadata": {},
   "outputs": [],
   "source": []
  }
 ],
 "metadata": {
  "kernelspec": {
   "display_name": "Python 3",
   "language": "python",
   "name": "python3"
  },
  "language_info": {
   "codemirror_mode": {
    "name": "ipython",
    "version": 3
   },
   "file_extension": ".py",
   "mimetype": "text/x-python",
   "name": "python",
   "nbconvert_exporter": "python",
   "pygments_lexer": "ipython3",
   "version": "3.7.6"
  }
 },
 "nbformat": 4,
 "nbformat_minor": 4
}
